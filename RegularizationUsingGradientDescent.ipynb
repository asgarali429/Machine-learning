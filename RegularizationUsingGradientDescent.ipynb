{
  "nbformat": 4,
  "nbformat_minor": 0,
  "metadata": {
    "colab": {
      "provenance": [],
      "authorship_tag": "ABX9TyP9FWXBIgq2/Yi+hm41c91e",
      "include_colab_link": true
    },
    "kernelspec": {
      "name": "python3",
      "display_name": "Python 3"
    },
    "language_info": {
      "name": "python"
    }
  },
  "cells": [
    {
      "cell_type": "markdown",
      "metadata": {
        "id": "view-in-github",
        "colab_type": "text"
      },
      "source": [
        "<a href=\"https://colab.research.google.com/github/asgarali429/Machine-learning/blob/main/RegularizationUsingGradientDescent.ipynb\" target=\"_parent\"><img src=\"https://colab.research.google.com/assets/colab-badge.svg\" alt=\"Open In Colab\"/></a>"
      ]
    },
    {
      "cell_type": "markdown",
      "source": [
        "##l2 Regularization"
      ],
      "metadata": {
        "id": "sjBMJHU8BUPC"
      }
    },
    {
      "cell_type": "code",
      "source": [
        "import numpy as np\n",
        "import random"
      ],
      "metadata": {
        "id": "YXXJ0Zc6qVDt"
      },
      "execution_count": null,
      "outputs": []
    },
    {
      "cell_type": "code",
      "execution_count": null,
      "metadata": {
        "id": "5qXDoG9App9T"
      },
      "outputs": [],
      "source": [
        "class gdregressor:\n",
        "\n",
        "  def __init__(self,epochs,learning_rate,alpha,batch_size):\n",
        "    self.m = None\n",
        "    self.b = None\n",
        "    self.epochs = epochs\n",
        "    self.lr = learning_rate\n",
        "    self.alpha = alpha\n",
        "    self.batch_size = batch_size\n",
        "\n",
        "  def fit(self,xtrain,ytrain):\n",
        "    self.m = np.ones(xtrain.shape[1])\n",
        "    self.b = 0\n",
        "\n",
        "\n",
        "    for i in range(self.epochs):\n",
        "      for j in range(xtrain.shape[0]//self.batch_size):\n",
        "        idx = random.sample(range(xtrain.shape[0]),self.batch_size)\n",
        "        yhat = np.dot(xtrain[idx],self.m) + self.b\n",
        "        b_der = -2 * np.mean(ytrain[idx] - yhat)\n",
        "        self.b = self.b - (self.lr*b_der)\n",
        "                                           # loss function    + l2 Regularization\n",
        "        m_der = (-2 * np.dot((ytrain[idx]-yhat),xtrain[idx])) + 2 * self.alpha * self.m\n",
        "\n",
        "        self.m = self.m - (self.lr*m_der)\n",
        "\n",
        "\n",
        "    print(self.b,self.m)\n",
        "    print(self.m.shape)\n",
        "\n",
        "  def predict(self,xtest):\n",
        "\n",
        "     return np.dot(xtest,self.m) + self.b\n",
        "\n",
        "\n"
      ]
    },
    {
      "cell_type": "code",
      "source": [
        "\n",
        "from sklearn.datasets import load_diabetes\n",
        "from sklearn.metrics import r2_score\n",
        "import numpy as np\n"
      ],
      "metadata": {
        "id": "lccMAoR7xtlo"
      },
      "execution_count": null,
      "outputs": []
    },
    {
      "cell_type": "code",
      "source": [
        "\n",
        "X,y = load_diabetes(return_X_y=True)\n"
      ],
      "metadata": {
        "id": "o0rXGQ8iydjl"
      },
      "execution_count": null,
      "outputs": []
    },
    {
      "cell_type": "code",
      "source": [
        "from sklearn.model_selection import train_test_split"
      ],
      "metadata": {
        "id": "_yQ8ixLuyjIx"
      },
      "execution_count": null,
      "outputs": []
    },
    {
      "cell_type": "code",
      "source": [
        "X_train,X_test,y_train,y_test = train_test_split(X,y,test_size=0.2,random_state=4)"
      ],
      "metadata": {
        "id": "7YR1iPRKylyf"
      },
      "execution_count": null,
      "outputs": []
    },
    {
      "cell_type": "code",
      "source": [
        "\n",
        "from sklearn.linear_model import SGDRegressor"
      ],
      "metadata": {
        "id": "IrHsH9kSyoLQ"
      },
      "execution_count": null,
      "outputs": []
    },
    {
      "cell_type": "code",
      "source": [
        "reg = SGDRegressor(penalty='l2',max_iter=500,eta0=0.1,learning_rate='constant',alpha=0.001)"
      ],
      "metadata": {
        "id": "CVDlOtTQyqo4"
      },
      "execution_count": null,
      "outputs": []
    },
    {
      "cell_type": "code",
      "source": [
        "\n",
        "reg.fit(X_train,y_train)\n",
        "\n",
        "y_pred = reg.predict(X_test)\n",
        "print(\"R2 score\",r2_score(y_test,y_pred))\n",
        "print(reg.coef_)\n",
        "print(reg.intercept_)"
      ],
      "metadata": {
        "colab": {
          "base_uri": "https://localhost:8080/"
        },
        "id": "Ow-KGw_Byzsc",
        "outputId": "6c481dde-3fa0-4e53-db56-279a157b7637"
      },
      "execution_count": null,
      "outputs": [
        {
          "output_type": "stream",
          "name": "stdout",
          "text": [
            "R2 score 0.4515050265879258\n",
            "[  51.99242893 -147.05042182  365.23348939  264.4989679    -4.72606856\n",
            "  -56.82336927 -164.68857437  133.92166491  320.59547245  102.88289207]\n",
            "[149.85359961]\n"
          ]
        }
      ]
    },
    {
      "cell_type": "code",
      "source": [
        "gdr = gdregressor(70,0.01,0.001,10)"
      ],
      "metadata": {
        "id": "iPCVyB3ky0Mb"
      },
      "execution_count": null,
      "outputs": []
    },
    {
      "cell_type": "code",
      "source": [
        "gdr.fit(X_train,y_train)"
      ],
      "metadata": {
        "colab": {
          "base_uri": "https://localhost:8080/"
        },
        "id": "WtBZ8gChzFuG",
        "outputId": "4d1b4426-2091-4d90-d46a-bafb3afcb221"
      },
      "execution_count": null,
      "outputs": [
        {
          "output_type": "stream",
          "name": "stdout",
          "text": [
            "149.2574398710774 [  59.89944601 -143.13264235  383.41460459  277.98491871    0.39103659\n",
            "  -56.49583325 -179.19109144  148.95875431  333.99534238  121.25043892]\n",
            "(10,)\n"
          ]
        }
      ]
    },
    {
      "cell_type": "code",
      "source": [
        "ypred=gdr.predict(X_test)"
      ],
      "metadata": {
        "id": "Hx58qv0uzIW3"
      },
      "execution_count": null,
      "outputs": []
    },
    {
      "cell_type": "code",
      "source": [
        "r2_score(y_test,ypred)"
      ],
      "metadata": {
        "colab": {
          "base_uri": "https://localhost:8080/"
        },
        "id": "DD3D90Bo1RJh",
        "outputId": "01eb4c59-11d7-426e-c9c2-6514de6ab6ef"
      },
      "execution_count": null,
      "outputs": [
        {
          "output_type": "execute_result",
          "data": {
            "text/plain": [
              "0.45598893742815005"
            ]
          },
          "metadata": {},
          "execution_count": 56
        }
      ]
    },
    {
      "cell_type": "markdown",
      "source": [
        "How are coefficients affected?\n",
        "It decrease the weight of coefficient near zero but it never be zero.\n",
        "\n",
        "Higher Coefficients are affected more?\n",
        "Yes,higher coefficents are more effected by regularization\n",
        "\n",
        "\n",
        "Impact on Bias and Variance\n",
        "when we increase the alpha value there will be high chance of biasness\n",
        "when we decrease the alpha value there will be high chance of variance\n",
        "\n",
        "effect of regularization on loss function\n",
        "the loss function to include a penalty term that discourages overly complex models."
      ],
      "metadata": {
        "id": "XfYKddTM-KhM"
      }
    },
    {
      "cell_type": "markdown",
      "source": [
        "###L1 Regularization"
      ],
      "metadata": {
        "id": "vcDWGUrF7V-v"
      }
    },
    {
      "cell_type": "code",
      "source": [
        "class l1gdregressor:\n",
        "\n",
        "  def __init__(self,epochs,learning_rate,alpha,batch_size):\n",
        "    self.m = None\n",
        "    self.b = None\n",
        "    self.epochs = epochs\n",
        "    self.lr = learning_rate\n",
        "    self.alpha = alpha\n",
        "    self.batch_size = batch_size\n",
        "\n",
        "  def fit(self,xtrain,ytrain):\n",
        "    self.m = np.ones(xtrain.shape[1])\n",
        "    self.b = 0\n",
        "\n",
        "\n",
        "    for i in range(self.epochs):\n",
        "      for j in range(xtrain.shape[0]//self.batch_size):\n",
        "        idx = random.sample(range(xtrain.shape[0]),self.batch_size)\n",
        "        yhat = np.dot(xtrain[idx],self.m) + self.b\n",
        "        b_der = -2 * np.mean(ytrain[idx] - yhat)\n",
        "        self.b = self.b - (self.lr*b_der)\n",
        "                                           # loss function    + l1 Regularization\n",
        "        m_der = (-2 * np.dot((ytrain[idx]-yhat),xtrain[idx])) + self.alpha * np.abs(self.m)\n",
        "\n",
        "        self.m = self.m - (self.lr*m_der)\n",
        "\n",
        "\n",
        "    print(self.b,self.m)\n",
        "    print(self.m.shape)\n",
        "\n",
        "  def predict(self,xtest):\n",
        "\n",
        "     return np.dot(xtest,self.m) + self.b\n"
      ],
      "metadata": {
        "id": "wp_j1lCn9pfB"
      },
      "execution_count": null,
      "outputs": []
    },
    {
      "cell_type": "code",
      "source": [
        "reg = SGDRegressor(penalty='l1',max_iter=10,eta0=0.1,learning_rate='constant',alpha=0.001)"
      ],
      "metadata": {
        "id": "1HvXiPU_5_z9"
      },
      "execution_count": null,
      "outputs": []
    },
    {
      "cell_type": "code",
      "source": [
        "reg.fit(X_train,y_train)"
      ],
      "metadata": {
        "colab": {
          "base_uri": "https://localhost:8080/",
          "height": 147
        },
        "id": "8zzimxz96HDr",
        "outputId": "b9826cd2-0a4c-45e0-bd34-2deac4620edf"
      },
      "execution_count": null,
      "outputs": [
        {
          "output_type": "stream",
          "name": "stderr",
          "text": [
            "/usr/local/lib/python3.10/dist-packages/sklearn/linear_model/_stochastic_gradient.py:1548: ConvergenceWarning: Maximum number of iteration reached before convergence. Consider increasing max_iter to improve the fit.\n",
            "  warnings.warn(\n"
          ]
        },
        {
          "output_type": "execute_result",
          "data": {
            "text/plain": [
              "SGDRegressor(alpha=0.001, eta0=0.1, learning_rate='constant', max_iter=10,\n",
              "             penalty='l1')"
            ],
            "text/html": [
              "<style>#sk-container-id-6 {color: black;background-color: white;}#sk-container-id-6 pre{padding: 0;}#sk-container-id-6 div.sk-toggleable {background-color: white;}#sk-container-id-6 label.sk-toggleable__label {cursor: pointer;display: block;width: 100%;margin-bottom: 0;padding: 0.3em;box-sizing: border-box;text-align: center;}#sk-container-id-6 label.sk-toggleable__label-arrow:before {content: \"▸\";float: left;margin-right: 0.25em;color: #696969;}#sk-container-id-6 label.sk-toggleable__label-arrow:hover:before {color: black;}#sk-container-id-6 div.sk-estimator:hover label.sk-toggleable__label-arrow:before {color: black;}#sk-container-id-6 div.sk-toggleable__content {max-height: 0;max-width: 0;overflow: hidden;text-align: left;background-color: #f0f8ff;}#sk-container-id-6 div.sk-toggleable__content pre {margin: 0.2em;color: black;border-radius: 0.25em;background-color: #f0f8ff;}#sk-container-id-6 input.sk-toggleable__control:checked~div.sk-toggleable__content {max-height: 200px;max-width: 100%;overflow: auto;}#sk-container-id-6 input.sk-toggleable__control:checked~label.sk-toggleable__label-arrow:before {content: \"▾\";}#sk-container-id-6 div.sk-estimator input.sk-toggleable__control:checked~label.sk-toggleable__label {background-color: #d4ebff;}#sk-container-id-6 div.sk-label input.sk-toggleable__control:checked~label.sk-toggleable__label {background-color: #d4ebff;}#sk-container-id-6 input.sk-hidden--visually {border: 0;clip: rect(1px 1px 1px 1px);clip: rect(1px, 1px, 1px, 1px);height: 1px;margin: -1px;overflow: hidden;padding: 0;position: absolute;width: 1px;}#sk-container-id-6 div.sk-estimator {font-family: monospace;background-color: #f0f8ff;border: 1px dotted black;border-radius: 0.25em;box-sizing: border-box;margin-bottom: 0.5em;}#sk-container-id-6 div.sk-estimator:hover {background-color: #d4ebff;}#sk-container-id-6 div.sk-parallel-item::after {content: \"\";width: 100%;border-bottom: 1px solid gray;flex-grow: 1;}#sk-container-id-6 div.sk-label:hover label.sk-toggleable__label {background-color: #d4ebff;}#sk-container-id-6 div.sk-serial::before {content: \"\";position: absolute;border-left: 1px solid gray;box-sizing: border-box;top: 0;bottom: 0;left: 50%;z-index: 0;}#sk-container-id-6 div.sk-serial {display: flex;flex-direction: column;align-items: center;background-color: white;padding-right: 0.2em;padding-left: 0.2em;position: relative;}#sk-container-id-6 div.sk-item {position: relative;z-index: 1;}#sk-container-id-6 div.sk-parallel {display: flex;align-items: stretch;justify-content: center;background-color: white;position: relative;}#sk-container-id-6 div.sk-item::before, #sk-container-id-6 div.sk-parallel-item::before {content: \"\";position: absolute;border-left: 1px solid gray;box-sizing: border-box;top: 0;bottom: 0;left: 50%;z-index: -1;}#sk-container-id-6 div.sk-parallel-item {display: flex;flex-direction: column;z-index: 1;position: relative;background-color: white;}#sk-container-id-6 div.sk-parallel-item:first-child::after {align-self: flex-end;width: 50%;}#sk-container-id-6 div.sk-parallel-item:last-child::after {align-self: flex-start;width: 50%;}#sk-container-id-6 div.sk-parallel-item:only-child::after {width: 0;}#sk-container-id-6 div.sk-dashed-wrapped {border: 1px dashed gray;margin: 0 0.4em 0.5em 0.4em;box-sizing: border-box;padding-bottom: 0.4em;background-color: white;}#sk-container-id-6 div.sk-label label {font-family: monospace;font-weight: bold;display: inline-block;line-height: 1.2em;}#sk-container-id-6 div.sk-label-container {text-align: center;}#sk-container-id-6 div.sk-container {/* jupyter's `normalize.less` sets `[hidden] { display: none; }` but bootstrap.min.css set `[hidden] { display: none !important; }` so we also need the `!important` here to be able to override the default hidden behavior on the sphinx rendered scikit-learn.org. See: https://github.com/scikit-learn/scikit-learn/issues/21755 */display: inline-block !important;position: relative;}#sk-container-id-6 div.sk-text-repr-fallback {display: none;}</style><div id=\"sk-container-id-6\" class=\"sk-top-container\"><div class=\"sk-text-repr-fallback\"><pre>SGDRegressor(alpha=0.001, eta0=0.1, learning_rate=&#x27;constant&#x27;, max_iter=10,\n",
              "             penalty=&#x27;l1&#x27;)</pre><b>In a Jupyter environment, please rerun this cell to show the HTML representation or trust the notebook. <br />On GitHub, the HTML representation is unable to render, please try loading this page with nbviewer.org.</b></div><div class=\"sk-container\" hidden><div class=\"sk-item\"><div class=\"sk-estimator sk-toggleable\"><input class=\"sk-toggleable__control sk-hidden--visually\" id=\"sk-estimator-id-6\" type=\"checkbox\" checked><label for=\"sk-estimator-id-6\" class=\"sk-toggleable__label sk-toggleable__label-arrow\">SGDRegressor</label><div class=\"sk-toggleable__content\"><pre>SGDRegressor(alpha=0.001, eta0=0.1, learning_rate=&#x27;constant&#x27;, max_iter=10,\n",
              "             penalty=&#x27;l1&#x27;)</pre></div></div></div></div></div>"
            ]
          },
          "metadata": {},
          "execution_count": 59
        }
      ]
    },
    {
      "cell_type": "code",
      "source": [
        "y_pred = reg.predict(X_test)"
      ],
      "metadata": {
        "id": "TdUy-mBO6MYa"
      },
      "execution_count": null,
      "outputs": []
    },
    {
      "cell_type": "code",
      "source": [
        "print(\"R2 score\",r2_score(y_test,y_pred))\n",
        "print(reg.coef_)\n",
        "print(reg.intercept_)"
      ],
      "metadata": {
        "colab": {
          "base_uri": "https://localhost:8080/"
        },
        "id": "A-drvOSo6PfL",
        "outputId": "bb5977fd-e89f-4dc9-b9c6-9a3f99eca78d"
      },
      "execution_count": null,
      "outputs": [
        {
          "output_type": "stream",
          "name": "stdout",
          "text": [
            "R2 score 0.42579799105271177\n",
            "[  63.60625362 -101.88655352  334.60767218  258.9058213    19.55137572\n",
            "  -28.92096817 -171.5896443   151.08343276  306.84842946  122.94214053]\n",
            "[145.05862161]\n"
          ]
        }
      ]
    },
    {
      "cell_type": "code",
      "source": [
        "reg = l1gdregressor(10,0.1,0.001,10)"
      ],
      "metadata": {
        "id": "UkUrbGId6TLj"
      },
      "execution_count": null,
      "outputs": []
    },
    {
      "cell_type": "code",
      "source": [
        "reg.fit(X_train,y_train)"
      ],
      "metadata": {
        "colab": {
          "base_uri": "https://localhost:8080/"
        },
        "id": "5HDcF6qj6sYc",
        "outputId": "235f1a1b-5eb6-4409-c90d-62a136751d14"
      },
      "execution_count": null,
      "outputs": [
        {
          "output_type": "stream",
          "name": "stdout",
          "text": [
            "154.82223394660403 [  41.17850848 -175.48547305  390.60718735  308.85159237  -26.28104178\n",
            " -104.16528766 -182.2925058   151.92223177  379.56923393   97.10619764]\n",
            "(10,)\n"
          ]
        }
      ]
    },
    {
      "cell_type": "code",
      "source": [
        "y_pred = reg.predict(X_test)\n",
        "print(\"R2 score\",r2_score(y_test,y_pred))"
      ],
      "metadata": {
        "colab": {
          "base_uri": "https://localhost:8080/"
        },
        "id": "8R-d4qHP7GYq",
        "outputId": "3f2fb269-db01-4abb-8ec2-d7434555863d"
      },
      "execution_count": null,
      "outputs": [
        {
          "output_type": "stream",
          "name": "stdout",
          "text": [
            "R2 score 0.47484830930017174\n"
          ]
        }
      ]
    },
    {
      "cell_type": "markdown",
      "source": [
        "Coefficients: L1 shrinks coefficient values, nudging them closer to zero. It can even force some coefficients to become exactly zero, acting as feature selection.\n",
        "\n",
        "Effect on Coefficients: L1 has a non-uniform effect on coefficients. It reduces the impact of less influential coefficients more than larger ones.\n",
        "\n",
        "Bias and Variance: Increasing L1 regularization can lead to higher bias and lower variance. It may also result in sparser models due to zeroed-out coefficients.\n",
        "\n",
        "Loss Function: L1 adds a penalty term to the loss function, discouraging complex models. This penalty is based on the sum of the absolute values of coefficients multiplied by a regularization parameter."
      ],
      "metadata": {
        "id": "DmU7GFF29Vrh"
      }
    },
    {
      "cell_type": "markdown",
      "source": [
        "###ElasticNet"
      ],
      "metadata": {
        "id": "aNpHD5p1BnRp"
      }
    },
    {
      "cell_type": "code",
      "source": [
        "import numpy as np\n",
        "import random\n",
        "\n",
        "class elasticnetgdregressor:\n",
        "\n",
        "  def __init__(self, epochs, learning_rate, alpha, l1_ratio, batch_size):\n",
        "    self.m = None\n",
        "    self.b = None\n",
        "    self.epochs = epochs\n",
        "    self.lr = learning_rate\n",
        "    self.alpha = alpha\n",
        "    self.l1_ratio = l1_ratio\n",
        "    self.batch_size = batch_size\n",
        "\n",
        "  def fit(self, xtrain, ytrain):\n",
        "    self.m = np.ones(xtrain.shape[1])\n",
        "    self.b = 0\n",
        "\n",
        "    for i in range(self.epochs):\n",
        "      for j in range(xtrain.shape[0] // self.batch_size):\n",
        "        idx = random.sample(range(xtrain.shape[0]), self.batch_size)\n",
        "        yhat = np.dot(xtrain[idx], self.m) + self.b\n",
        "        b_der = -2 * np.mean(ytrain[idx] - yhat)\n",
        "        self.b = self.b - (self.lr * b_der)\n",
        "\n",
        "        m_der = (-2 * np.dot((ytrain[idx] - yhat), xtrain[idx])) + 2 * self.alpha * ((1 - self.l1_ratio) * self.m + self.l1_ratio * np.sign(self.m))\n",
        "\n",
        "        self.m = self.m - (self.lr * m_der)\n",
        "\n",
        "    print(self.b, self.m)\n",
        "    print(self.m.shape)\n",
        "\n",
        "  def predict(self, xtest):\n",
        "    return np.dot(xtest, self.m) + self.b\n"
      ],
      "metadata": {
        "id": "xhDiEINO7SGK"
      },
      "execution_count": null,
      "outputs": []
    },
    {
      "cell_type": "code",
      "source": [
        "reg = SGDRegressor(penalty='elasticnet',l1_ratio = 0.5,max_iter=100,eta0=0.1,learning_rate='constant',alpha=0.001)"
      ],
      "metadata": {
        "id": "Dk2P9AuA_RxI"
      },
      "execution_count": null,
      "outputs": []
    },
    {
      "cell_type": "code",
      "source": [
        "reg.fit(X_train,y_train)"
      ],
      "metadata": {
        "colab": {
          "base_uri": "https://localhost:8080/",
          "height": 93
        },
        "id": "V2L8RJEH_nu6",
        "outputId": "cbc45be0-e8fc-430c-a057-e21af196c8cb"
      },
      "execution_count": null,
      "outputs": [
        {
          "output_type": "execute_result",
          "data": {
            "text/plain": [
              "SGDRegressor(alpha=0.001, eta0=0.1, l1_ratio=0.5, learning_rate='constant',\n",
              "             max_iter=100, penalty='elasticnet')"
            ],
            "text/html": [
              "<style>#sk-container-id-9 {color: black;background-color: white;}#sk-container-id-9 pre{padding: 0;}#sk-container-id-9 div.sk-toggleable {background-color: white;}#sk-container-id-9 label.sk-toggleable__label {cursor: pointer;display: block;width: 100%;margin-bottom: 0;padding: 0.3em;box-sizing: border-box;text-align: center;}#sk-container-id-9 label.sk-toggleable__label-arrow:before {content: \"▸\";float: left;margin-right: 0.25em;color: #696969;}#sk-container-id-9 label.sk-toggleable__label-arrow:hover:before {color: black;}#sk-container-id-9 div.sk-estimator:hover label.sk-toggleable__label-arrow:before {color: black;}#sk-container-id-9 div.sk-toggleable__content {max-height: 0;max-width: 0;overflow: hidden;text-align: left;background-color: #f0f8ff;}#sk-container-id-9 div.sk-toggleable__content pre {margin: 0.2em;color: black;border-radius: 0.25em;background-color: #f0f8ff;}#sk-container-id-9 input.sk-toggleable__control:checked~div.sk-toggleable__content {max-height: 200px;max-width: 100%;overflow: auto;}#sk-container-id-9 input.sk-toggleable__control:checked~label.sk-toggleable__label-arrow:before {content: \"▾\";}#sk-container-id-9 div.sk-estimator input.sk-toggleable__control:checked~label.sk-toggleable__label {background-color: #d4ebff;}#sk-container-id-9 div.sk-label input.sk-toggleable__control:checked~label.sk-toggleable__label {background-color: #d4ebff;}#sk-container-id-9 input.sk-hidden--visually {border: 0;clip: rect(1px 1px 1px 1px);clip: rect(1px, 1px, 1px, 1px);height: 1px;margin: -1px;overflow: hidden;padding: 0;position: absolute;width: 1px;}#sk-container-id-9 div.sk-estimator {font-family: monospace;background-color: #f0f8ff;border: 1px dotted black;border-radius: 0.25em;box-sizing: border-box;margin-bottom: 0.5em;}#sk-container-id-9 div.sk-estimator:hover {background-color: #d4ebff;}#sk-container-id-9 div.sk-parallel-item::after {content: \"\";width: 100%;border-bottom: 1px solid gray;flex-grow: 1;}#sk-container-id-9 div.sk-label:hover label.sk-toggleable__label {background-color: #d4ebff;}#sk-container-id-9 div.sk-serial::before {content: \"\";position: absolute;border-left: 1px solid gray;box-sizing: border-box;top: 0;bottom: 0;left: 50%;z-index: 0;}#sk-container-id-9 div.sk-serial {display: flex;flex-direction: column;align-items: center;background-color: white;padding-right: 0.2em;padding-left: 0.2em;position: relative;}#sk-container-id-9 div.sk-item {position: relative;z-index: 1;}#sk-container-id-9 div.sk-parallel {display: flex;align-items: stretch;justify-content: center;background-color: white;position: relative;}#sk-container-id-9 div.sk-item::before, #sk-container-id-9 div.sk-parallel-item::before {content: \"\";position: absolute;border-left: 1px solid gray;box-sizing: border-box;top: 0;bottom: 0;left: 50%;z-index: -1;}#sk-container-id-9 div.sk-parallel-item {display: flex;flex-direction: column;z-index: 1;position: relative;background-color: white;}#sk-container-id-9 div.sk-parallel-item:first-child::after {align-self: flex-end;width: 50%;}#sk-container-id-9 div.sk-parallel-item:last-child::after {align-self: flex-start;width: 50%;}#sk-container-id-9 div.sk-parallel-item:only-child::after {width: 0;}#sk-container-id-9 div.sk-dashed-wrapped {border: 1px dashed gray;margin: 0 0.4em 0.5em 0.4em;box-sizing: border-box;padding-bottom: 0.4em;background-color: white;}#sk-container-id-9 div.sk-label label {font-family: monospace;font-weight: bold;display: inline-block;line-height: 1.2em;}#sk-container-id-9 div.sk-label-container {text-align: center;}#sk-container-id-9 div.sk-container {/* jupyter's `normalize.less` sets `[hidden] { display: none; }` but bootstrap.min.css set `[hidden] { display: none !important; }` so we also need the `!important` here to be able to override the default hidden behavior on the sphinx rendered scikit-learn.org. See: https://github.com/scikit-learn/scikit-learn/issues/21755 */display: inline-block !important;position: relative;}#sk-container-id-9 div.sk-text-repr-fallback {display: none;}</style><div id=\"sk-container-id-9\" class=\"sk-top-container\"><div class=\"sk-text-repr-fallback\"><pre>SGDRegressor(alpha=0.001, eta0=0.1, l1_ratio=0.5, learning_rate=&#x27;constant&#x27;,\n",
              "             max_iter=100, penalty=&#x27;elasticnet&#x27;)</pre><b>In a Jupyter environment, please rerun this cell to show the HTML representation or trust the notebook. <br />On GitHub, the HTML representation is unable to render, please try loading this page with nbviewer.org.</b></div><div class=\"sk-container\" hidden><div class=\"sk-item\"><div class=\"sk-estimator sk-toggleable\"><input class=\"sk-toggleable__control sk-hidden--visually\" id=\"sk-estimator-id-9\" type=\"checkbox\" checked><label for=\"sk-estimator-id-9\" class=\"sk-toggleable__label sk-toggleable__label-arrow\">SGDRegressor</label><div class=\"sk-toggleable__content\"><pre>SGDRegressor(alpha=0.001, eta0=0.1, l1_ratio=0.5, learning_rate=&#x27;constant&#x27;,\n",
              "             max_iter=100, penalty=&#x27;elasticnet&#x27;)</pre></div></div></div></div></div>"
            ]
          },
          "metadata": {},
          "execution_count": 71
        }
      ]
    },
    {
      "cell_type": "code",
      "source": [
        "y_pred = reg.predict(X_test)"
      ],
      "metadata": {
        "id": "-_54aHtP_tTJ"
      },
      "execution_count": null,
      "outputs": []
    },
    {
      "cell_type": "code",
      "source": [
        "print(\"R2 score\",r2_score(y_test,y_pred))\n",
        "print(reg.coef_)\n",
        "print(reg.intercept_)"
      ],
      "metadata": {
        "colab": {
          "base_uri": "https://localhost:8080/"
        },
        "id": "qNkuHuoyAMQy",
        "outputId": "0fbf7963-6e51-4e0a-c1f2-c5a44da93334"
      },
      "execution_count": null,
      "outputs": [
        {
          "output_type": "stream",
          "name": "stdout",
          "text": [
            "R2 score 0.4715102872607545\n",
            "[  46.30340817 -202.71228536  418.40435512  300.12195445  -26.22680906\n",
            "  -86.26336768 -180.77131263  139.74220483  374.08388307   88.15998336]\n",
            "[161.27452398]\n"
          ]
        }
      ]
    },
    {
      "cell_type": "code",
      "source": [
        "# epochs, learning_rate, alpha, l1_ratio, batch_size):\n",
        "reg = elasticnetgdregressor(100,0.01,0.001,0.5,10)"
      ],
      "metadata": {
        "id": "NpAZXG86APJi"
      },
      "execution_count": null,
      "outputs": []
    },
    {
      "cell_type": "code",
      "source": [
        "reg.fit(X_train,y_train)"
      ],
      "metadata": {
        "colab": {
          "base_uri": "https://localhost:8080/"
        },
        "id": "VknWpEVnAme0",
        "outputId": "63aac458-cf78-48fb-e924-12e5d0e6912d"
      },
      "execution_count": null,
      "outputs": [
        {
          "output_type": "stream",
          "name": "stdout",
          "text": [
            "149.32213452102093 [  43.21451587 -186.97863101  423.87864696  307.26225623  -20.68608131\n",
            "  -79.51975743 -197.56837608  154.11239293  375.28708227  102.35787586]\n",
            "(10,)\n"
          ]
        }
      ]
    },
    {
      "cell_type": "code",
      "source": [
        "y_pred = reg.predict(X_test)"
      ],
      "metadata": {
        "id": "Qi7ouDGIApNc"
      },
      "execution_count": null,
      "outputs": []
    },
    {
      "cell_type": "code",
      "source": [
        "print(\"R2 score\",r2_score(y_test,y_pred))\n"
      ],
      "metadata": {
        "colab": {
          "base_uri": "https://localhost:8080/"
        },
        "id": "8XRwkb-IAw38",
        "outputId": "0e8e36d5-0a88-46f0-e118-9b06a7b9e174"
      },
      "execution_count": null,
      "outputs": [
        {
          "output_type": "stream",
          "name": "stdout",
          "text": [
            "R2 score 0.46889490384958954\n"
          ]
        }
      ]
    },
    {
      "cell_type": "markdown",
      "source": [
        "combination l1 and l2 . contain both feature depend how you tuning the hyperparameter of l1_ratio accorading to data\n"
      ],
      "metadata": {
        "id": "SsZRamreBaHI"
      }
    },
    {
      "cell_type": "code",
      "source": [],
      "metadata": {
        "id": "RfDej2-rAzYP"
      },
      "execution_count": null,
      "outputs": []
    }
  ]
}